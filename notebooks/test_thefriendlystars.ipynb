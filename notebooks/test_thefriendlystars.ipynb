{
 "cells": [
  {
   "cell_type": "code",
   "execution_count": 1,
   "metadata": {},
   "outputs": [
    {
     "name": "stdout",
     "output_type": "stream",
     "text": [
      "Created TAP+ (v1.0.1) - Connection:\n",
      "\tHost: gea.esac.esa.int\n",
      "\tUse HTTPS: False\n",
      "\tPort: 80\n",
      "\tSSL Port: 443\n"
     ]
    }
   ],
   "source": [
    "from craftroom.thefriendlystars.constellation import *"
   ]
  },
  {
   "cell_type": "code",
   "execution_count": 2,
   "metadata": {},
   "outputs": [
    {
     "ename": "NameResolveError",
     "evalue": "All Sesame queries failed. Unable to retrieve coordinates. See errors per URL below: \n http://cdsweb.u-strasbg.fr/cgi-bin/nph-sesame/A?LHS%201140: [Errno 8] nodename nor servname provided, or not known\nhttp://vizier.cfa.harvard.edu/viz-bin/nph-sesame/A?LHS%201140: [Errno 8] nodename nor servname provided, or not known",
     "output_type": "error",
     "traceback": [
      "\u001b[0;31m---------------------------------------------------------------------------\u001b[0m",
      "\u001b[0;31mNameResolveError\u001b[0m                          Traceback (most recent call last)",
      "\u001b[0;32m<ipython-input-2-aa5a89bbd72e>\u001b[0m in \u001b[0;36m<module>\u001b[0;34m()\u001b[0m\n\u001b[0;32m----> 1\u001b[0;31m \u001b[0mcenter\u001b[0m \u001b[0;34m=\u001b[0m \u001b[0mget\u001b[0m\u001b[0;34m(\u001b[0m\u001b[0;34m'LHS 1140'\u001b[0m\u001b[0;34m)\u001b[0m\u001b[0;34m\u001b[0m\u001b[0m\n\u001b[0m",
      "\u001b[0;32m~/anaconda3/envs/mosasaurus/lib/python3.6/site-packages/astropy/coordinates/sky_coordinate.py\u001b[0m in \u001b[0;36mfrom_name\u001b[0;34m(cls, name, frame)\u001b[0m\n\u001b[1;32m   1690\u001b[0m         \u001b[0;32mfrom\u001b[0m \u001b[0;34m.\u001b[0m\u001b[0mname_resolve\u001b[0m \u001b[0;32mimport\u001b[0m \u001b[0mget_icrs_coordinates\u001b[0m\u001b[0;34m\u001b[0m\u001b[0m\n\u001b[1;32m   1691\u001b[0m \u001b[0;34m\u001b[0m\u001b[0m\n\u001b[0;32m-> 1692\u001b[0;31m         \u001b[0micrs_coord\u001b[0m \u001b[0;34m=\u001b[0m \u001b[0mget_icrs_coordinates\u001b[0m\u001b[0;34m(\u001b[0m\u001b[0mname\u001b[0m\u001b[0;34m)\u001b[0m\u001b[0;34m\u001b[0m\u001b[0m\n\u001b[0m\u001b[1;32m   1693\u001b[0m         \u001b[0micrs_sky_coord\u001b[0m \u001b[0;34m=\u001b[0m \u001b[0mcls\u001b[0m\u001b[0;34m(\u001b[0m\u001b[0micrs_coord\u001b[0m\u001b[0;34m)\u001b[0m\u001b[0;34m\u001b[0m\u001b[0m\n\u001b[1;32m   1694\u001b[0m         \u001b[0;32mif\u001b[0m \u001b[0mframe\u001b[0m \u001b[0;32min\u001b[0m \u001b[0;34m(\u001b[0m\u001b[0;34m'icrs'\u001b[0m\u001b[0;34m,\u001b[0m \u001b[0micrs_coord\u001b[0m\u001b[0;34m.\u001b[0m\u001b[0m__class__\u001b[0m\u001b[0;34m)\u001b[0m\u001b[0;34m:\u001b[0m\u001b[0;34m\u001b[0m\u001b[0m\n",
      "\u001b[0;32m~/anaconda3/envs/mosasaurus/lib/python3.6/site-packages/astropy/coordinates/name_resolve.py\u001b[0m in \u001b[0;36mget_icrs_coordinates\u001b[0;34m(name)\u001b[0m\n\u001b[1;32m    158\u001b[0m         raise NameResolveError(\"All Sesame queries failed. Unable to \"\n\u001b[1;32m    159\u001b[0m                                \u001b[0;34m\"retrieve coordinates. See errors per URL \"\u001b[0m\u001b[0;34m\u001b[0m\u001b[0m\n\u001b[0;32m--> 160\u001b[0;31m                                \"below: \\n {}\".format(\"\\n\".join(messages)))\n\u001b[0m\u001b[1;32m    161\u001b[0m \u001b[0;34m\u001b[0m\u001b[0m\n\u001b[1;32m    162\u001b[0m     \u001b[0mra\u001b[0m\u001b[0;34m,\u001b[0m \u001b[0mdec\u001b[0m \u001b[0;34m=\u001b[0m \u001b[0m_parse_response\u001b[0m\u001b[0;34m(\u001b[0m\u001b[0mresp_data\u001b[0m\u001b[0;34m)\u001b[0m\u001b[0;34m\u001b[0m\u001b[0m\n",
      "\u001b[0;31mNameResolveError\u001b[0m: All Sesame queries failed. Unable to retrieve coordinates. See errors per URL below: \n http://cdsweb.u-strasbg.fr/cgi-bin/nph-sesame/A?LHS%201140: [Errno 8] nodename nor servname provided, or not known\nhttp://vizier.cfa.harvard.edu/viz-bin/nph-sesame/A?LHS%201140: [Errno 8] nodename nor servname provided, or not known"
     ]
    }
   ],
   "source": [
    "# define the center of the search\n",
    "center = get('LHS 1140')"
   ]
  },
  {
   "cell_type": "code",
   "execution_count": null,
   "metadata": {},
   "outputs": [],
   "source": [
    "# get constellation of stars surrounding that one\n",
    "g = Gaia(center)"
   ]
  }
 ],
 "metadata": {
  "kernelspec": {
   "display_name": "Python 3",
   "language": "python",
   "name": "python3"
  },
  "language_info": {
   "codemirror_mode": {
    "name": "ipython",
    "version": 3
   },
   "file_extension": ".py",
   "mimetype": "text/x-python",
   "name": "python",
   "nbconvert_exporter": "python",
   "pygments_lexer": "ipython3",
   "version": "3.6.2"
  }
 },
 "nbformat": 4,
 "nbformat_minor": 2
}
