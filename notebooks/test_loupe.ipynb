{
 "cells": [
  {
   "cell_type": "code",
   "execution_count": 3,
   "metadata": {},
   "outputs": [],
   "source": [
    "%matplotlib osx"
   ]
  },
  {
   "cell_type": "code",
   "execution_count": 4,
   "metadata": {},
   "outputs": [],
   "source": [
    "from craftroom.displays.loupe import *"
   ]
  },
  {
   "cell_type": "code",
   "execution_count": 2,
   "metadata": {},
   "outputs": [],
   "source": []
  },
  {
   "cell_type": "code",
   "execution_count": null,
   "metadata": {},
   "outputs": [],
   "source": [
    "fake = createTestImage()\n",
    "l = loupe()\n",
    "l.setup(fake)"
   ]
  },
  {
   "cell_type": "code",
   "execution_count": 3,
   "metadata": {},
   "outputs": [
    {
     "name": "stdout",
     "output_type": "stream",
     "text": [
      "        [loupe] setting up loupe\n",
      "        [loupe] \n",
      "        [loupe] your self.options include:\n",
      "        [loupe]    [q]uit\n",
      "        [loupe]    move the [c]rosshair, and plot slicey along it\n",
      "        [loupe]    nudge the crosshair [up]\n",
      "        [loupe]    nudge the crosshair [down]\n",
      "        [loupe]    nudge the crosshair [left]\n",
      "        [loupe]    nudge the crosshair [right]\n",
      "        [iplot] waiting for a key to be pressed and released\n",
      "        [iplot] \"q\" pressed at 315.6175000000001, 159.08347222222224\n",
      "        [loupe] \"q\" was pressed\n"
     ]
    },
    {
     "data": {
      "text/plain": [
       "(array([[ 97.81264186,  93.3261492 ,  87.14761935, ..., 115.25284214,\n",
       "         101.24212422, 115.65057977],\n",
       "        [ 85.74014631, 108.45852143, 101.76915297, ..., 116.60128087,\n",
       "         105.64993774,  85.98983137],\n",
       "        [102.95131701, 101.35400171,  81.26229179, ...,  94.74675362,\n",
       "          99.4737083 , 108.31847307],\n",
       "        ...,\n",
       "        [ 98.49848676, 110.29957918, 100.62385819, ...,  98.97111067,\n",
       "         111.3631755 ,  99.82830041],\n",
       "        [108.63579841, 100.94718429,  99.39394512, ...,  89.74412517,\n",
       "          91.06333509, 103.873892  ],\n",
       "        [103.69249859, 100.89607871, 109.59402458, ...,  86.42047993,\n",
       "          85.77178727, 103.16039379]]),\n",
       " <craftroom.displays.loupe.loupe at 0x1a178ad390>)"
      ]
     },
     "execution_count": 3,
     "metadata": {},
     "output_type": "execute_result"
    }
   ],
   "source": [
    "test()"
   ]
  },
  {
   "cell_type": "code",
   "execution_count": 4,
   "metadata": {},
   "outputs": [
    {
     "name": "stdout",
     "output_type": "stream",
     "text": [
      "        [loupe] setting up loupe\n"
     ]
    }
   ],
   "source": []
  },
  {
   "cell_type": "code",
   "execution_count": 5,
   "metadata": {},
   "outputs": [
    {
     "name": "stdout",
     "output_type": "stream",
     "text": [
      "        [loupe] \n",
      "        [loupe] your self.options include:\n",
      "        [loupe]    [q]uit\n",
      "        [loupe]    move the [c]rosshair, and plot slicey along it\n",
      "        [loupe]    nudge the crosshair [up]\n",
      "        [loupe]    nudge the crosshair [down]\n",
      "        [loupe]    nudge the crosshair [left]\n",
      "        [loupe]    nudge the crosshair [right]\n",
      "        [iplot] waiting for a key to be pressed and released\n",
      "        [iplot] \"c\" pressed at 245.48027777777787, 131.63847222222222\n",
      "        [loupe] \"c\" was pressed\n",
      "        [loupe] \n",
      "        [loupe] your self.options include:\n",
      "        [loupe]    [q]uit\n",
      "        [loupe]    move the [c]rosshair, and plot slicey along it\n",
      "        [loupe]    nudge the crosshair [up]\n",
      "        [loupe]    nudge the crosshair [down]\n",
      "        [loupe]    nudge the crosshair [left]\n",
      "        [loupe]    nudge the crosshair [right]\n",
      "        [iplot] waiting for a key to be pressed and released\n",
      "        [iplot] \"c\" pressed at 371.26986111111125, 113.34180555555555\n",
      "        [loupe] \"c\" was pressed\n",
      "        [loupe] \n",
      "        [loupe] your self.options include:\n",
      "        [loupe]    [q]uit\n",
      "        [loupe]    move the [c]rosshair, and plot slicey along it\n",
      "        [loupe]    nudge the crosshair [up]\n",
      "        [loupe]    nudge the crosshair [down]\n",
      "        [loupe]    nudge the crosshair [left]\n",
      "        [loupe]    nudge the crosshair [right]\n",
      "        [iplot] waiting for a key to be pressed and released\n",
      "        [iplot] \"c\" pressed at 368.2204166666668, 125.53958333333334\n",
      "        [loupe] \"c\" was pressed\n",
      "        [loupe] \n",
      "        [loupe] your self.options include:\n",
      "        [loupe]    [q]uit\n",
      "        [loupe]    move the [c]rosshair, and plot slicey along it\n",
      "        [loupe]    nudge the crosshair [up]\n",
      "        [loupe]    nudge the crosshair [down]\n",
      "        [loupe]    nudge the crosshair [left]\n",
      "        [loupe]    nudge the crosshair [right]\n",
      "        [iplot] waiting for a key to be pressed and released\n",
      "        [iplot] \"c\" pressed at 336.9636111111112, 140.02444444444444\n",
      "        [loupe] \"c\" was pressed\n",
      "        [loupe] \n",
      "        [loupe] your self.options include:\n",
      "        [loupe]    [q]uit\n",
      "        [loupe]    move the [c]rosshair, and plot slicey along it\n",
      "        [loupe]    nudge the crosshair [up]\n",
      "        [loupe]    nudge the crosshair [down]\n",
      "        [loupe]    nudge the crosshair [left]\n",
      "        [loupe]    nudge the crosshair [right]\n",
      "        [iplot] waiting for a key to be pressed and released\n",
      "        [iplot] \"q\" pressed at 340.7754166666668, 113.34180555555555\n",
      "        [loupe] \"q\" was pressed\n"
     ]
    }
   ],
   "source": [
    "l.run()"
   ]
  },
  {
   "cell_type": "code",
   "execution_count": null,
   "metadata": {},
   "outputs": [
    {
     "name": "stdout",
     "output_type": "stream",
     "text": [
      "        [loupe] setting up loupe\n",
      "        [loupe] \n",
      "        [loupe] your self.options include:\n",
      "        [loupe]    [q]uit\n",
      "        [loupe]    move the [c]rosshair, and plot slicey along it\n",
      "        [loupe]    nudge the crosshair [up]\n",
      "        [loupe]    nudge the crosshair [down]\n",
      "        [loupe]    nudge the crosshair [left]\n",
      "        [loupe]    nudge the crosshair [right]\n",
      "        [iplot] waiting for a key to be pressed and released\n"
     ]
    }
   ],
   "source": [
    "test()"
   ]
  },
  {
   "cell_type": "code",
   "execution_count": null,
   "metadata": {},
   "outputs": [],
   "source": []
  }
 ],
 "metadata": {
  "kernelspec": {
   "display_name": "Python 3",
   "language": "python",
   "name": "python3"
  },
  "language_info": {
   "codemirror_mode": {
    "name": "ipython",
    "version": 3
   },
   "file_extension": ".py",
   "mimetype": "text/x-python",
   "name": "python",
   "nbconvert_exporter": "python",
   "pygments_lexer": "ipython3",
   "version": "3.6.2"
  }
 },
 "nbformat": 4,
 "nbformat_minor": 2
}
